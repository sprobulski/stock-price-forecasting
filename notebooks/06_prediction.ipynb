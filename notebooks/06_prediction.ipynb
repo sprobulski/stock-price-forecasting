{
 "cells": [
  {
   "cell_type": "raw",
   "metadata": {
    "vscode": {
     "languageId": "raw"
    }
   },
   "source": [
    "# Stock Price Prediction and Forward-Looking Analysis\n",
    "\n",
    "## Prediction Framework\n",
    "\n",
    "This notebook implements the final stage of our quantitative stock analysis pipeline, generating forward-looking price predictions using the optimal model selected from our comprehensive evaluation process. The approach combines the best-performing predictive model with forecasted feature values to generate robust price predictions for the specified forecast horizon.\n",
    "\n",
    "## Prediction Methodology\n",
    "\n",
    "The prediction process integrates several critical components:\n",
    "\n",
    "**Model Selection**: The system automatically loads the best-performing model based on validation set performance, ensuring that predictions utilize the most robust algorithm for the specific security and market conditions.\n",
    "\n",
    "**Feature Forecasting Integration**: Future price predictions require future feature values. The system utilizes the feature forecasting models developed in the previous phase to generate forward-looking feature estimates necessary for price prediction.\n",
    "\n",
    "**Uncertainty Quantification**: The prediction process provides not only point estimates but also confidence intervals and trend analysis to support decision-making under uncertainty.\n",
    "\n",
    "**Performance Attribution**: The system analyzes which features and market conditions are driving the predicted price movements, providing insight into the fundamental factors influencing the forecast.\n",
    "\n",
    "This comprehensive approach ensures that the final predictions are grounded in rigorous quantitative analysis while providing the interpretability necessary for practical investment decision-making.\n"
   ]
  },
  {
   "cell_type": "code",
   "execution_count": 1,
   "metadata": {},
   "outputs": [
    {
     "name": "stdout",
     "output_type": "stream",
     "text": [
      "Predicting prices for next 5 days for MSFT\n",
      "Loading best model: Ridge\n",
      "Model type: Ridge\n",
      "Val MSE: 490.9948\n",
      "✅ Ridge loaded successfully\n",
      "✅ Feature scaler loaded\n",
      "✅ Data loaded successfully\n",
      "Prediction date: 2025-06-20\n",
      "   Current MSFT price: $477.40\n",
      "   Features: 32\n",
      "   Future features shape: (5, 34)\n",
      "\n",
      "============================================================\n",
      "FUTURE PRICE PREDICTIONS\n",
      "============================================================\n",
      "Making predictions with forecasted features...\n",
      "\n",
      "📈 FINAL PREDICTIONS:\n",
      "  2025-06-23: $449.92 (-5.8%)\n",
      "  2025-06-23: $446.68 (-6.4%)\n",
      "  2025-06-23: $441.76 (-7.5%)\n",
      "  2025-06-24: $438.11 (-8.2%)\n",
      "  2025-06-25: $434.76 (-8.9%)\n",
      "\n",
      "🎯 5-DAY OUTLOOK: 📉 Downward trend (-8.9%)\n"
     ]
    }
   ],
   "source": [
    "# Initialize prediction pipeline\n",
    "import sys\n",
    "sys.path.append('../src')\n",
    "\n",
    "from prediction import load_best_model, load_data, make_future_predictions, display_predictions\n",
    "\n",
    "# Define prediction target and horizon\n",
    "ticker = input(\"Enter the ticker symbol to analyze (or press Enter to use AAPL): \").upper() or \"AAPL\"\n",
    "print(f\"Generating 5-day forward price predictions for {ticker}\")\n",
    "print(\"Utilizing optimal model and forecasted feature values\")\n",
    "\n",
    "# Load optimal model and associated metadata\n",
    "try:\n",
    "    model, feature_scaler, target_scaler, metadata = load_best_model(ticker)\n",
    "    print(f\"Loaded optimal model: {metadata.get('model_type', 'Unknown')}\")\n",
    "    print(f\"Model validation performance: {metadata.get('val_mse', 'N/A'):.4f} MSE\")\n",
    "except Exception as e:\n",
    "    print(f\"Model loading failed: {e}\")\n",
    "    raise\n",
    "\n",
    "# Load current market state and forecasted features\n",
    "try:\n",
    "    current_price, current_date, future_features_df, feature_columns = load_data(ticker, metadata)\n",
    "    print(f\"Current {ticker} price: ${current_price:.2f} as of {current_date}\")\n",
    "    print(f\"Feature matrix prepared: {future_features_df.shape}\")\n",
    "except Exception as e:\n",
    "    print(f\"Data preparation failed: {e}\")\n",
    "    raise\n",
    "\n",
    "# Generate forward-looking price predictions\n",
    "try:\n",
    "    predictions = make_future_predictions(model, feature_scaler, future_features_df, feature_columns)\n",
    "    print(\"Price predictions generated using forecasted feature values\")\n",
    "except Exception as e:\n",
    "    print(f\"Prediction generation failed: {e}\")\n",
    "    raise\n",
    "\n",
    "# Display prediction results with trend analysis\n",
    "try:\n",
    "    display_predictions(predictions, current_date, current_price)\n",
    "except Exception as e:\n",
    "    print(f\"Results display failed: {e}\")\n",
    "    raise"
   ]
  }
 ],
 "metadata": {
  "kernelspec": {
   "display_name": "Python 3",
   "language": "python",
   "name": "python3"
  },
  "language_info": {
   "codemirror_mode": {
    "name": "ipython",
    "version": 3
   },
   "file_extension": ".py",
   "mimetype": "text/x-python",
   "name": "python",
   "nbconvert_exporter": "python",
   "pygments_lexer": "ipython3",
   "version": "3.12.7"
  }
 },
 "nbformat": 4,
 "nbformat_minor": 2
}
